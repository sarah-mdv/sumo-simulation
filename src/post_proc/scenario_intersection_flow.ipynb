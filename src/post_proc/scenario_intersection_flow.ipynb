{
 "cells": [
  {
   "cell_type": "code",
   "execution_count": 1,
   "metadata": {
    "collapsed": true
   },
   "outputs": [],
   "source": [
    "import pandas as pd\n",
    "import zipfile\n",
    "import math\n",
    "\n",
    "EARTH_RADIUS = 6371\n",
    "LARGE_JUNC = (\"large_junction\", 43.741602, 7.426854)\n",
    "SMALL_JUNC = (\"small_junction\", 43.738850, 7.424625)\n",
    "ROUNDABT = (\"round_about\", 43.731597, 7.417291)\n",
    "\n",
    "#Radius of the circle centered around the junction\n",
    "RANGE = 100\n"
   ]
  },
  {
   "cell_type": "code",
   "execution_count": 2,
   "metadata": {
    "collapsed": false
   },
   "outputs": [],
   "source": [
    "def distance(lat_1, lon_1, lat_2, lon_2):\n",
    "    lat1 = math.radians(lat_1)\n",
    "    lat2 = math.radians(lat_2)\n",
    "    lon1 = math.radians(lon_1)\n",
    "    lon2 = math.radians(lon_2)\n",
    "    delta_lat = lat2 - lat1\n",
    "    delta_lon = lon2 - lon1\n",
    "    if delta_lat < -1 or delta_lat > 1 or delta_lon < -1 or delta_lon > 1:\n",
    "        print(\"Undefined value for {:.2f} or {:.2f}\".format(delta_lat, delta_lon))\n",
    "        return -1\n",
    "    sin_lat = math.sin(delta_lat / 2)\n",
    "    sin_lon = math.sin(delta_lon / 2)\n",
    "    a = sin_lat * sin_lat + math.cos(lat1)*math.cos(lat2) * sin_lon * sin_lon\n",
    "    c = 2 * math.atan2(math.sqrt(a), math.sqrt(1-a))\n",
    "    d = EARTH_RADIUS * c\n",
    "    d = 1000 * d\n",
    "    return d"
   ]
  },
  {
   "cell_type": "code",
   "execution_count": 16,
   "metadata": {
    "collapsed": true
   },
   "outputs": [],
   "source": [
    "def compare_distance(lon2, lat2):\n",
    "    #(lat2, lon2) = coord\n",
    "    (name, lat1, lon1) = ROUNDABT\n",
    "    dist = distance(lat1, lon1, lat2, lon2)\n",
    "    return dist < RANGE and dist >= 0"
   ]
  },
  {
   "cell_type": "code",
   "execution_count": 4,
   "metadata": {
    "collapsed": false
   },
   "outputs": [],
   "source": [
    "df = pd.read_csv('/home/sarah_a_mdv/sumo-simulation/src/data/all_coordinates_1.tar.gz', compression='gzip', sep=',', quotechar='\"', error_bad_lines=False)"
   ]
  },
  {
   "cell_type": "code",
   "execution_count": 5,
   "metadata": {
    "collapsed": false
   },
   "outputs": [
    {
     "data": {
      "text/html": [
       "<div>\n",
       "<table border=\"1\" class=\"dataframe\">\n",
       "  <thead>\n",
       "    <tr style=\"text-align: right;\">\n",
       "      <th></th>\n",
       "      <th>step</th>\n",
       "      <th>id</th>\n",
       "      <th>type</th>\n",
       "      <th>lon</th>\n",
       "      <th>lat</th>\n",
       "    </tr>\n",
       "  </thead>\n",
       "  <tbody>\n",
       "    <tr>\n",
       "      <th>0</th>\n",
       "      <td>14405.50</td>\n",
       "      <td>bus_M1:France.0</td>\n",
       "      <td>bus</td>\n",
       "      <td>7.376518</td>\n",
       "      <td>43.720354</td>\n",
       "    </tr>\n",
       "    <tr>\n",
       "      <th>1</th>\n",
       "      <td>14405.75</td>\n",
       "      <td>bus_M1:France.0</td>\n",
       "      <td>bus</td>\n",
       "      <td>7.376519</td>\n",
       "      <td>43.720354</td>\n",
       "    </tr>\n",
       "    <tr>\n",
       "      <th>2</th>\n",
       "      <td>14406.00</td>\n",
       "      <td>bus_M1:France.0</td>\n",
       "      <td>bus</td>\n",
       "      <td>7.376522</td>\n",
       "      <td>43.720355</td>\n",
       "    </tr>\n",
       "    <tr>\n",
       "      <th>3</th>\n",
       "      <td>14406.25</td>\n",
       "      <td>bus_M1:France.0</td>\n",
       "      <td>bus</td>\n",
       "      <td>7.376525</td>\n",
       "      <td>43.720355</td>\n",
       "    </tr>\n",
       "    <tr>\n",
       "      <th>4</th>\n",
       "      <td>14406.50</td>\n",
       "      <td>bus_M1:France.0</td>\n",
       "      <td>bus</td>\n",
       "      <td>7.376528</td>\n",
       "      <td>43.720356</td>\n",
       "    </tr>\n",
       "  </tbody>\n",
       "</table>\n",
       "</div>"
      ],
      "text/plain": [
       "       step               id type       lon        lat\n",
       "0  14405.50  bus_M1:France.0  bus  7.376518  43.720354\n",
       "1  14405.75  bus_M1:France.0  bus  7.376519  43.720354\n",
       "2  14406.00  bus_M1:France.0  bus  7.376522  43.720355\n",
       "3  14406.25  bus_M1:France.0  bus  7.376525  43.720355\n",
       "4  14406.50  bus_M1:France.0  bus  7.376528  43.720356"
      ]
     },
     "execution_count": 5,
     "metadata": {},
     "output_type": "execute_result"
    }
   ],
   "source": [
    "df.columns=[\"step\", \"id\", \"type\", \"lon\", \"lat\"]\n",
    "df.head()"
   ]
  },
  {
   "cell_type": "code",
   "execution_count": 17,
   "metadata": {
    "collapsed": false
   },
   "outputs": [
    {
     "name": "stdout",
     "output_type": "stream",
     "text": [
      "Undefined value for inf or inf\n",
      "Undefined value for inf or inf\n",
      "Undefined value for inf or inf\n",
      "Undefined value for inf or inf\n",
      "Undefined value for inf or inf\n",
      "Undefined value for inf or inf\n",
      "Undefined value for inf or inf\n",
      "Undefined value for inf or inf\n",
      "Undefined value for inf or inf\n",
      "Undefined value for inf or inf\n",
      "Undefined value for inf or inf\n",
      "Undefined value for inf or inf\n",
      "Undefined value for inf or inf\n",
      "Undefined value for inf or inf\n",
      "Undefined value for inf or inf\n",
      "Undefined value for inf or inf\n",
      "Undefined value for inf or inf\n",
      "Undefined value for inf or inf\n",
      "Undefined value for inf or inf\n",
      "Undefined value for inf or inf\n",
      "Undefined value for inf or inf\n"
     ]
    },
    {
     "data": {
      "text/html": [
       "<div>\n",
       "<table border=\"1\" class=\"dataframe\">\n",
       "  <thead>\n",
       "    <tr style=\"text-align: right;\">\n",
       "      <th></th>\n",
       "      <th>step</th>\n",
       "      <th>id</th>\n",
       "      <th>type</th>\n",
       "      <th>lon</th>\n",
       "      <th>lat</th>\n",
       "    </tr>\n",
       "  </thead>\n",
       "  <tbody>\n",
       "    <tr>\n",
       "      <th>13306</th>\n",
       "      <td>14809.75</td>\n",
       "      <td>bus_1:SaintRoman.0</td>\n",
       "      <td>bus</td>\n",
       "      <td>7.418303</td>\n",
       "      <td>43.732088</td>\n",
       "    </tr>\n",
       "    <tr>\n",
       "      <th>13319</th>\n",
       "      <td>14810.00</td>\n",
       "      <td>bus_1:SaintRoman.0</td>\n",
       "      <td>bus</td>\n",
       "      <td>7.418277</td>\n",
       "      <td>43.732076</td>\n",
       "    </tr>\n",
       "    <tr>\n",
       "      <th>13332</th>\n",
       "      <td>14810.25</td>\n",
       "      <td>bus_1:SaintRoman.0</td>\n",
       "      <td>bus</td>\n",
       "      <td>7.418250</td>\n",
       "      <td>43.732063</td>\n",
       "    </tr>\n",
       "    <tr>\n",
       "      <th>13345</th>\n",
       "      <td>14810.50</td>\n",
       "      <td>bus_1:SaintRoman.0</td>\n",
       "      <td>bus</td>\n",
       "      <td>7.418222</td>\n",
       "      <td>43.732050</td>\n",
       "    </tr>\n",
       "    <tr>\n",
       "      <th>13358</th>\n",
       "      <td>14810.75</td>\n",
       "      <td>bus_1:SaintRoman.0</td>\n",
       "      <td>bus</td>\n",
       "      <td>7.418193</td>\n",
       "      <td>43.732037</td>\n",
       "    </tr>\n",
       "  </tbody>\n",
       "</table>\n",
       "</div>"
      ],
      "text/plain": [
       "           step                  id type       lon        lat\n",
       "13306  14809.75  bus_1:SaintRoman.0  bus  7.418303  43.732088\n",
       "13319  14810.00  bus_1:SaintRoman.0  bus  7.418277  43.732076\n",
       "13332  14810.25  bus_1:SaintRoman.0  bus  7.418250  43.732063\n",
       "13345  14810.50  bus_1:SaintRoman.0  bus  7.418222  43.732050\n",
       "13358  14810.75  bus_1:SaintRoman.0  bus  7.418193  43.732037"
      ]
     },
     "execution_count": 17,
     "metadata": {},
     "output_type": "execute_result"
    }
   ],
   "source": [
    "junc = df[df[[\"lon\", \"lat\"]].apply(lambda x: compare_distance(*x), axis=1)]\n",
    "junc.head()"
   ]
  },
  {
   "cell_type": "code",
   "execution_count": 18,
   "metadata": {
    "collapsed": false
   },
   "outputs": [],
   "source": [
    "junc.to_csv(\"/home/sarah_a_mdv/sumo-simulation/src/data/roundabout.csv\")"
   ]
  },
  {
   "cell_type": "code",
   "execution_count": null,
   "metadata": {
    "collapsed": true
   },
   "outputs": [],
   "source": []
  }
 ],
 "metadata": {
  "kernelspec": {
   "display_name": "Python 3",
   "language": "python",
   "name": "python3"
  },
  "language_info": {
   "codemirror_mode": {
    "name": "ipython",
    "version": 3
   },
   "file_extension": ".py",
   "mimetype": "text/x-python",
   "name": "python",
   "nbconvert_exporter": "python",
   "pygments_lexer": "ipython3",
   "version": "3.5.1"
  }
 },
 "nbformat": 4,
 "nbformat_minor": 0
}
